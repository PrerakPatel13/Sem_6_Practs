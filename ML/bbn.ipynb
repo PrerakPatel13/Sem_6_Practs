{
  "nbformat": 4,
  "nbformat_minor": 0,
  "metadata": {
    "colab": {
      "provenance": []
    },
    "kernelspec": {
      "name": "python3",
      "display_name": "Python 3"
    },
    "language_info": {
      "name": "python"
    }
  },
  "cells": [
    {
      "cell_type": "code",
      "execution_count": null,
      "metadata": {
        "colab": {
          "base_uri": "https://localhost:8080/"
        },
        "id": "kVK5xB9W0yWp",
        "outputId": "614ce7a3-fb51-4c45-bb58-8fb40c910096"
      },
      "outputs": [
        {
          "output_type": "stream",
          "name": "stdout",
          "text": [
            "Collecting pgmpy\n",
            "  Downloading pgmpy-0.1.25-py3-none-any.whl (2.0 MB)\n",
            "\u001b[?25l     \u001b[90m━━━━━━━━━━━━━━━━━━━━━━━━━━━━━━━━━━━━━━━━\u001b[0m \u001b[32m0.0/2.0 MB\u001b[0m \u001b[31m?\u001b[0m eta \u001b[36m-:--:--\u001b[0m\r\u001b[2K     \u001b[91m━━━━━━━\u001b[0m\u001b[91m╸\u001b[0m\u001b[90m━━━━━━━━━━━━━━━━━━━━━━━━━━━━━━━━\u001b[0m \u001b[32m0.4/2.0 MB\u001b[0m \u001b[31m11.4 MB/s\u001b[0m eta \u001b[36m0:00:01\u001b[0m\r\u001b[2K     \u001b[90m━━━━━━━━━━━━━━━━━━━━━━━━━━━━━━━━━━━━━━━━\u001b[0m \u001b[32m2.0/2.0 MB\u001b[0m \u001b[31m30.9 MB/s\u001b[0m eta \u001b[36m0:00:00\u001b[0m\n",
            "\u001b[?25hRequirement already satisfied: networkx in /usr/local/lib/python3.10/dist-packages (from pgmpy) (3.2.1)\n",
            "Requirement already satisfied: numpy in /usr/local/lib/python3.10/dist-packages (from pgmpy) (1.25.2)\n",
            "Requirement already satisfied: scipy in /usr/local/lib/python3.10/dist-packages (from pgmpy) (1.11.4)\n",
            "Requirement already satisfied: scikit-learn in /usr/local/lib/python3.10/dist-packages (from pgmpy) (1.2.2)\n",
            "Requirement already satisfied: pandas in /usr/local/lib/python3.10/dist-packages (from pgmpy) (1.5.3)\n",
            "Requirement already satisfied: pyparsing in /usr/local/lib/python3.10/dist-packages (from pgmpy) (3.1.2)\n",
            "Requirement already satisfied: torch in /usr/local/lib/python3.10/dist-packages (from pgmpy) (2.2.1+cu121)\n",
            "Requirement already satisfied: statsmodels in /usr/local/lib/python3.10/dist-packages (from pgmpy) (0.14.1)\n",
            "Requirement already satisfied: tqdm in /usr/local/lib/python3.10/dist-packages (from pgmpy) (4.66.2)\n",
            "Requirement already satisfied: joblib in /usr/local/lib/python3.10/dist-packages (from pgmpy) (1.3.2)\n",
            "Requirement already satisfied: opt-einsum in /usr/local/lib/python3.10/dist-packages (from pgmpy) (3.3.0)\n",
            "Requirement already satisfied: python-dateutil>=2.8.1 in /usr/local/lib/python3.10/dist-packages (from pandas->pgmpy) (2.8.2)\n",
            "Requirement already satisfied: pytz>=2020.1 in /usr/local/lib/python3.10/dist-packages (from pandas->pgmpy) (2023.4)\n",
            "Requirement already satisfied: threadpoolctl>=2.0.0 in /usr/local/lib/python3.10/dist-packages (from scikit-learn->pgmpy) (3.4.0)\n",
            "Requirement already satisfied: patsy>=0.5.4 in /usr/local/lib/python3.10/dist-packages (from statsmodels->pgmpy) (0.5.6)\n",
            "Requirement already satisfied: packaging>=21.3 in /usr/local/lib/python3.10/dist-packages (from statsmodels->pgmpy) (24.0)\n",
            "Requirement already satisfied: filelock in /usr/local/lib/python3.10/dist-packages (from torch->pgmpy) (3.13.3)\n",
            "Requirement already satisfied: typing-extensions>=4.8.0 in /usr/local/lib/python3.10/dist-packages (from torch->pgmpy) (4.10.0)\n",
            "Requirement already satisfied: sympy in /usr/local/lib/python3.10/dist-packages (from torch->pgmpy) (1.12)\n",
            "Requirement already satisfied: jinja2 in /usr/local/lib/python3.10/dist-packages (from torch->pgmpy) (3.1.3)\n",
            "Requirement already satisfied: fsspec in /usr/local/lib/python3.10/dist-packages (from torch->pgmpy) (2023.6.0)\n",
            "Collecting nvidia-cuda-nvrtc-cu12==12.1.105 (from torch->pgmpy)\n",
            "  Downloading nvidia_cuda_nvrtc_cu12-12.1.105-py3-none-manylinux1_x86_64.whl (23.7 MB)\n",
            "\u001b[2K     \u001b[90m━━━━━━━━━━━━━━━━━━━━━━━━━━━━━━━━━━━━━━━━\u001b[0m \u001b[32m23.7/23.7 MB\u001b[0m \u001b[31m55.8 MB/s\u001b[0m eta \u001b[36m0:00:00\u001b[0m\n",
            "\u001b[?25hCollecting nvidia-cuda-runtime-cu12==12.1.105 (from torch->pgmpy)\n",
            "  Downloading nvidia_cuda_runtime_cu12-12.1.105-py3-none-manylinux1_x86_64.whl (823 kB)\n",
            "\u001b[2K     \u001b[90m━━━━━━━━━━━━━━━━━━━━━━━━━━━━━━━━━━━━━━━━\u001b[0m \u001b[32m823.6/823.6 kB\u001b[0m \u001b[31m56.7 MB/s\u001b[0m eta \u001b[36m0:00:00\u001b[0m\n",
            "\u001b[?25hCollecting nvidia-cuda-cupti-cu12==12.1.105 (from torch->pgmpy)\n",
            "  Downloading nvidia_cuda_cupti_cu12-12.1.105-py3-none-manylinux1_x86_64.whl (14.1 MB)\n",
            "\u001b[2K     \u001b[90m━━━━━━━━━━━━━━━━━━━━━━━━━━━━━━━━━━━━━━━━\u001b[0m \u001b[32m14.1/14.1 MB\u001b[0m \u001b[31m84.1 MB/s\u001b[0m eta \u001b[36m0:00:00\u001b[0m\n",
            "\u001b[?25hCollecting nvidia-cudnn-cu12==8.9.2.26 (from torch->pgmpy)\n",
            "  Downloading nvidia_cudnn_cu12-8.9.2.26-py3-none-manylinux1_x86_64.whl (731.7 MB)\n",
            "\u001b[2K     \u001b[90m━━━━━━━━━━━━━━━━━━━━━━━━━━━━━━━━━━━━━━━━\u001b[0m \u001b[32m731.7/731.7 MB\u001b[0m \u001b[31m2.0 MB/s\u001b[0m eta \u001b[36m0:00:00\u001b[0m\n",
            "\u001b[?25hCollecting nvidia-cublas-cu12==12.1.3.1 (from torch->pgmpy)\n",
            "  Downloading nvidia_cublas_cu12-12.1.3.1-py3-none-manylinux1_x86_64.whl (410.6 MB)\n",
            "\u001b[2K     \u001b[90m━━━━━━━━━━━━━━━━━━━━━━━━━━━━━━━━━━━━━━━━\u001b[0m \u001b[32m410.6/410.6 MB\u001b[0m \u001b[31m2.8 MB/s\u001b[0m eta \u001b[36m0:00:00\u001b[0m\n",
            "\u001b[?25hCollecting nvidia-cufft-cu12==11.0.2.54 (from torch->pgmpy)\n",
            "  Downloading nvidia_cufft_cu12-11.0.2.54-py3-none-manylinux1_x86_64.whl (121.6 MB)\n",
            "\u001b[2K     \u001b[90m━━━━━━━━━━━━━━━━━━━━━━━━━━━━━━━━━━━━━━━━\u001b[0m \u001b[32m121.6/121.6 MB\u001b[0m \u001b[31m8.3 MB/s\u001b[0m eta \u001b[36m0:00:00\u001b[0m\n",
            "\u001b[?25hCollecting nvidia-curand-cu12==10.3.2.106 (from torch->pgmpy)\n",
            "  Downloading nvidia_curand_cu12-10.3.2.106-py3-none-manylinux1_x86_64.whl (56.5 MB)\n",
            "\u001b[2K     \u001b[90m━━━━━━━━━━━━━━━━━━━━━━━━━━━━━━━━━━━━━━━━\u001b[0m \u001b[32m56.5/56.5 MB\u001b[0m \u001b[31m10.2 MB/s\u001b[0m eta \u001b[36m0:00:00\u001b[0m\n",
            "\u001b[?25hCollecting nvidia-cusolver-cu12==11.4.5.107 (from torch->pgmpy)\n",
            "  Downloading nvidia_cusolver_cu12-11.4.5.107-py3-none-manylinux1_x86_64.whl (124.2 MB)\n",
            "\u001b[2K     \u001b[90m━━━━━━━━━━━━━━━━━━━━━━━━━━━━━━━━━━━━━━━━\u001b[0m \u001b[32m124.2/124.2 MB\u001b[0m \u001b[31m8.2 MB/s\u001b[0m eta \u001b[36m0:00:00\u001b[0m\n",
            "\u001b[?25hCollecting nvidia-cusparse-cu12==12.1.0.106 (from torch->pgmpy)\n",
            "  Downloading nvidia_cusparse_cu12-12.1.0.106-py3-none-manylinux1_x86_64.whl (196.0 MB)\n",
            "\u001b[2K     \u001b[90m━━━━━━━━━━━━━━━━━━━━━━━━━━━━━━━━━━━━━━━━\u001b[0m \u001b[32m196.0/196.0 MB\u001b[0m \u001b[31m2.5 MB/s\u001b[0m eta \u001b[36m0:00:00\u001b[0m\n",
            "\u001b[?25hCollecting nvidia-nccl-cu12==2.19.3 (from torch->pgmpy)\n",
            "  Downloading nvidia_nccl_cu12-2.19.3-py3-none-manylinux1_x86_64.whl (166.0 MB)\n",
            "\u001b[2K     \u001b[90m━━━━━━━━━━━━━━━━━━━━━━━━━━━━━━━━━━━━━━━━\u001b[0m \u001b[32m166.0/166.0 MB\u001b[0m \u001b[31m6.8 MB/s\u001b[0m eta \u001b[36m0:00:00\u001b[0m\n",
            "\u001b[?25hCollecting nvidia-nvtx-cu12==12.1.105 (from torch->pgmpy)\n",
            "  Downloading nvidia_nvtx_cu12-12.1.105-py3-none-manylinux1_x86_64.whl (99 kB)\n",
            "\u001b[2K     \u001b[90m━━━━━━━━━━━━━━━━━━━━━━━━━━━━━━━━━━━━━━━━\u001b[0m \u001b[32m99.1/99.1 kB\u001b[0m \u001b[31m12.4 MB/s\u001b[0m eta \u001b[36m0:00:00\u001b[0m\n",
            "\u001b[?25hRequirement already satisfied: triton==2.2.0 in /usr/local/lib/python3.10/dist-packages (from torch->pgmpy) (2.2.0)\n",
            "Collecting nvidia-nvjitlink-cu12 (from nvidia-cusolver-cu12==11.4.5.107->torch->pgmpy)\n",
            "  Downloading nvidia_nvjitlink_cu12-12.4.99-py3-none-manylinux2014_x86_64.whl (21.1 MB)\n",
            "\u001b[2K     \u001b[90m━━━━━━━━━━━━━━━━━━━━━━━━━━━━━━━━━━━━━━━━\u001b[0m \u001b[32m21.1/21.1 MB\u001b[0m \u001b[31m69.7 MB/s\u001b[0m eta \u001b[36m0:00:00\u001b[0m\n",
            "\u001b[?25hRequirement already satisfied: six in /usr/local/lib/python3.10/dist-packages (from patsy>=0.5.4->statsmodels->pgmpy) (1.16.0)\n",
            "Requirement already satisfied: MarkupSafe>=2.0 in /usr/local/lib/python3.10/dist-packages (from jinja2->torch->pgmpy) (2.1.5)\n",
            "Requirement already satisfied: mpmath>=0.19 in /usr/local/lib/python3.10/dist-packages (from sympy->torch->pgmpy) (1.3.0)\n",
            "Installing collected packages: nvidia-nvtx-cu12, nvidia-nvjitlink-cu12, nvidia-nccl-cu12, nvidia-curand-cu12, nvidia-cufft-cu12, nvidia-cuda-runtime-cu12, nvidia-cuda-nvrtc-cu12, nvidia-cuda-cupti-cu12, nvidia-cublas-cu12, nvidia-cusparse-cu12, nvidia-cudnn-cu12, nvidia-cusolver-cu12, pgmpy\n",
            "Successfully installed nvidia-cublas-cu12-12.1.3.1 nvidia-cuda-cupti-cu12-12.1.105 nvidia-cuda-nvrtc-cu12-12.1.105 nvidia-cuda-runtime-cu12-12.1.105 nvidia-cudnn-cu12-8.9.2.26 nvidia-cufft-cu12-11.0.2.54 nvidia-curand-cu12-10.3.2.106 nvidia-cusolver-cu12-11.4.5.107 nvidia-cusparse-cu12-12.1.0.106 nvidia-nccl-cu12-2.19.3 nvidia-nvjitlink-cu12-12.4.99 nvidia-nvtx-cu12-12.1.105 pgmpy-0.1.25\n"
          ]
        }
      ],
      "source": [
        "!pip install pgmpy"
      ]
    },
    {
      "cell_type": "code",
      "source": [
        "from pgmpy.models import BayesianNetwork\n",
        "from pgmpy.factors.discrete import TabularCPD\n",
        "question = BayesianNetwork(\n",
        "    [\n",
        "        (\"Burglary\", \"Alarm\"),\n",
        "        (\"Earthquake\", \"Alarm\"),\n",
        "        (\"Alarm\", \"JohnCall\"),\n",
        "        (\"Alarm\", \"MaryCall\"),\n",
        "    ]\n",
        ")\n",
        "\n",
        "burglary= TabularCPD(\n",
        "    variable=\"Burglary\", variable_card=2, values=[[0.999], [0.001]]\n",
        ")\n",
        "\n",
        "earthquake = TabularCPD(\n",
        "    variable=\"Earthquake\", variable_card=2, values=[[0.998], [0.002]]\n",
        ")\n",
        "\n",
        "alarm = TabularCPD(\n",
        "    variable=\"Alarm\",\n",
        "    variable_card=2,\n",
        "    values=[[0.999, 0.71, 0.06, 0.05], [0.001, 0.29, 0.94, 0.95]],\n",
        "    evidence=[\"Burglary\", \"Earthquake\"],\n",
        "    evidence_card=[2, 2],\n",
        ")\n",
        "\n",
        "johncall = TabularCPD(\n",
        "    variable=\"JohnCall\",\n",
        "    variable_card=2,\n",
        "    values=[[0.95, 0.1], [0.05, 0.9]],\n",
        "    evidence=[\"Alarm\"],\n",
        "    evidence_card=[2],\n",
        ")\n",
        "\n",
        "marycall = TabularCPD(\n",
        "    variable=\"MaryCall\",\n",
        "    variable_card=2,\n",
        "    values=[[0.99, 0.3], [0.01, 0.7]],\n",
        "    evidence=[\"Alarm\"],\n",
        "    evidence_card=[2],\n",
        ")\n",
        "\n",
        "question.add_cpds(\n",
        "    burglary, earthquake, alarm, johncall, marycall\n",
        ")\n"
      ],
      "metadata": {
        "id": "4ckrm2xY05jZ"
      },
      "execution_count": null,
      "outputs": []
    },
    {
      "cell_type": "code",
      "source": [
        "question.nodes()"
      ],
      "metadata": {
        "colab": {
          "base_uri": "https://localhost:8080/"
        },
        "id": "yGQqhPXi141y",
        "outputId": "ce5519a3-957f-47d9-bf81-ced2c6f1e1d0"
      },
      "execution_count": null,
      "outputs": [
        {
          "output_type": "execute_result",
          "data": {
            "text/plain": [
              "NodeView(('Burglary', 'Alarm', 'Earthquake', 'JohnCall', 'MaryCall'))"
            ]
          },
          "metadata": {},
          "execution_count": 4
        }
      ]
    },
    {
      "cell_type": "code",
      "source": [
        "question.edges()"
      ],
      "metadata": {
        "colab": {
          "base_uri": "https://localhost:8080/"
        },
        "id": "H_M3aHov4soZ",
        "outputId": "cab0170f-031e-4067-a680-948a4f87ae2c"
      },
      "execution_count": null,
      "outputs": [
        {
          "output_type": "execute_result",
          "data": {
            "text/plain": [
              "OutEdgeView([('Burglary', 'Alarm'), ('Alarm', 'JohnCall'), ('Alarm', 'MaryCall'), ('Earthquake', 'Alarm')])"
            ]
          },
          "metadata": {},
          "execution_count": 5
        }
      ]
    },
    {
      "cell_type": "code",
      "source": [
        "print(alarm)"
      ],
      "metadata": {
        "colab": {
          "base_uri": "https://localhost:8080/"
        },
        "id": "GiFtcAM741TQ",
        "outputId": "77ac30a3-9add-4a7d-ba60-2f7878fc3502"
      },
      "execution_count": null,
      "outputs": [
        {
          "output_type": "stream",
          "name": "stdout",
          "text": [
            "+------------+---------------+---------------+---------------+---------------+\n",
            "| Burglary   | Burglary(0)   | Burglary(0)   | Burglary(1)   | Burglary(1)   |\n",
            "+------------+---------------+---------------+---------------+---------------+\n",
            "| Earthquake | Earthquake(0) | Earthquake(1) | Earthquake(0) | Earthquake(1) |\n",
            "+------------+---------------+---------------+---------------+---------------+\n",
            "| Alarm(0)   | 0.999         | 0.71          | 0.06          | 0.05          |\n",
            "+------------+---------------+---------------+---------------+---------------+\n",
            "| Alarm(1)   | 0.001         | 0.29          | 0.94          | 0.95          |\n",
            "+------------+---------------+---------------+---------------+---------------+\n"
          ]
        }
      ]
    },
    {
      "cell_type": "code",
      "source": [
        "print(earthquake)"
      ],
      "metadata": {
        "colab": {
          "base_uri": "https://localhost:8080/"
        },
        "id": "Z7ZMkuvKAN1Q",
        "outputId": "a12224af-d570-4f08-895b-4804f5a25b0a"
      },
      "execution_count": null,
      "outputs": [
        {
          "output_type": "stream",
          "name": "stdout",
          "text": [
            "+---------------+-------+\n",
            "| Earthquake(0) | 0.998 |\n",
            "+---------------+-------+\n",
            "| Earthquake(1) | 0.002 |\n",
            "+---------------+-------+\n"
          ]
        }
      ]
    },
    {
      "cell_type": "code",
      "source": [
        "print(burglary)"
      ],
      "metadata": {
        "colab": {
          "base_uri": "https://localhost:8080/"
        },
        "id": "XWoCH9nfASm7",
        "outputId": "0e98da6e-8d05-4f05-eea8-01a5af69364c"
      },
      "execution_count": null,
      "outputs": [
        {
          "output_type": "stream",
          "name": "stdout",
          "text": [
            "+-------------+-------+\n",
            "| Burglary(0) | 0.999 |\n",
            "+-------------+-------+\n",
            "| Burglary(1) | 0.001 |\n",
            "+-------------+-------+\n"
          ]
        }
      ]
    },
    {
      "cell_type": "code",
      "source": [
        "print(johncall)"
      ],
      "metadata": {
        "colab": {
          "base_uri": "https://localhost:8080/"
        },
        "id": "SNSvY14HAZRy",
        "outputId": "ab8b819e-972a-4b10-8921-c3c8a9a3fbed"
      },
      "execution_count": null,
      "outputs": [
        {
          "output_type": "stream",
          "name": "stdout",
          "text": [
            "+-------------+----------+----------+\n",
            "| Alarm       | Alarm(0) | Alarm(1) |\n",
            "+-------------+----------+----------+\n",
            "| JohnCall(0) | 0.95     | 0.1      |\n",
            "+-------------+----------+----------+\n",
            "| JohnCall(1) | 0.05     | 0.9      |\n",
            "+-------------+----------+----------+\n"
          ]
        }
      ]
    },
    {
      "cell_type": "code",
      "source": [
        "print(marycall)"
      ],
      "metadata": {
        "colab": {
          "base_uri": "https://localhost:8080/"
        },
        "id": "r__21k1_AcLr",
        "outputId": "dcb99134-e7a1-41d0-864c-0be64c2fbbe6"
      },
      "execution_count": null,
      "outputs": [
        {
          "output_type": "stream",
          "name": "stdout",
          "text": [
            "+-------------+----------+----------+\n",
            "| Alarm       | Alarm(0) | Alarm(1) |\n",
            "+-------------+----------+----------+\n",
            "| MaryCall(0) | 0.99     | 0.3      |\n",
            "+-------------+----------+----------+\n",
            "| MaryCall(1) | 0.01     | 0.7      |\n",
            "+-------------+----------+----------+\n"
          ]
        }
      ]
    },
    {
      "cell_type": "code",
      "source": [
        "question.get_independencies()"
      ],
      "metadata": {
        "colab": {
          "base_uri": "https://localhost:8080/"
        },
        "id": "NoS-lsfa5JIA",
        "outputId": "8599df6d-fdd2-400f-e27c-c08f2579abd9"
      },
      "execution_count": null,
      "outputs": [
        {
          "output_type": "execute_result",
          "data": {
            "text/plain": [
              "(MaryCall ⟂ JohnCall, Burglary, Earthquake | Alarm)\n",
              "(MaryCall ⟂ Burglary, Earthquake | JohnCall, Alarm)\n",
              "(MaryCall ⟂ JohnCall, Earthquake | Burglary, Alarm)\n",
              "(MaryCall ⟂ JohnCall, Burglary | Alarm, Earthquake)\n",
              "(MaryCall ⟂ Earthquake | JohnCall, Burglary, Alarm)\n",
              "(MaryCall ⟂ Burglary | JohnCall, Alarm, Earthquake)\n",
              "(MaryCall ⟂ JohnCall | Burglary, Alarm, Earthquake)\n",
              "(JohnCall ⟂ MaryCall, Burglary, Earthquake | Alarm)\n",
              "(JohnCall ⟂ Burglary, Earthquake | MaryCall, Alarm)\n",
              "(JohnCall ⟂ MaryCall, Earthquake | Burglary, Alarm)\n",
              "(JohnCall ⟂ MaryCall, Burglary | Alarm, Earthquake)\n",
              "(JohnCall ⟂ Earthquake | MaryCall, Burglary, Alarm)\n",
              "(JohnCall ⟂ Burglary | MaryCall, Alarm, Earthquake)\n",
              "(JohnCall ⟂ MaryCall | Burglary, Alarm, Earthquake)\n",
              "(Burglary ⟂ Earthquake)\n",
              "(Burglary ⟂ MaryCall, JohnCall | Alarm)\n",
              "(Burglary ⟂ JohnCall | MaryCall, Alarm)\n",
              "(Burglary ⟂ MaryCall | JohnCall, Alarm)\n",
              "(Burglary ⟂ MaryCall, JohnCall | Alarm, Earthquake)\n",
              "(Burglary ⟂ JohnCall | MaryCall, Alarm, Earthquake)\n",
              "(Burglary ⟂ MaryCall | JohnCall, Alarm, Earthquake)\n",
              "(Earthquake ⟂ Burglary)\n",
              "(Earthquake ⟂ MaryCall, JohnCall | Alarm)\n",
              "(Earthquake ⟂ JohnCall | MaryCall, Alarm)\n",
              "(Earthquake ⟂ MaryCall | JohnCall, Alarm)\n",
              "(Earthquake ⟂ MaryCall, JohnCall | Burglary, Alarm)\n",
              "(Earthquake ⟂ JohnCall | MaryCall, Burglary, Alarm)\n",
              "(Earthquake ⟂ MaryCall | JohnCall, Burglary, Alarm)"
            ]
          },
          "metadata": {},
          "execution_count": 11
        }
      ]
    },
    {
      "cell_type": "code",
      "source": [
        "from pgmpy.inference import VariableElimination\n",
        "\n",
        "infer = VariableElimination(question)\n",
        "\n",
        "evidence = {\n",
        "    'Burglary': 0,\n",
        "    'Earthquake': 0,\n",
        "}\n",
        "\n",
        "query = ['JohnCall', 'MaryCall', 'Burglary', 'Earthquake']\n",
        "\n",
        "result = infer.query(variables=['JohnCall', 'MaryCall', 'Alarm'], evidence=evidence)\n",
        "\n",
        "probability = result.values[1][1][1]\n",
        "\n",
        "print(\"Probability of Alarm Ringed when JohnCall=True, MaryCall=True, Burglary=False, Earthquake=False:\", probability)\n"
      ],
      "metadata": {
        "colab": {
          "base_uri": "https://localhost:8080/"
        },
        "id": "PJjMoh9-5dB4",
        "outputId": "7a08a976-d30b-4159-9401-7ce5c98565db"
      },
      "execution_count": null,
      "outputs": [
        {
          "output_type": "stream",
          "name": "stdout",
          "text": [
            "Probability of Alarm Ringed when JohnCall=True, MaryCall=True, Burglary=False, Earthquake=False: 0.0006300000000000001\n"
          ]
        }
      ]
    },
    {
      "cell_type": "code",
      "source": [
        "from pgmpy.inference import VariableElimination\n",
        "\n",
        "infer = VariableElimination(question)\n",
        "\n",
        "evidence = {\n",
        "    'Burglary': 0,\n",
        "    'Earthquake': 0,\n",
        "}\n",
        "\n",
        "query = ['JohnCall', 'MaryCall', 'Burglary', 'Earthquake']\n",
        "\n",
        "result = infer.query(variables=['JohnCall'])\n",
        "\n",
        "probability1 = result.values[-1]\n",
        "\n",
        "print(\"Probability of JohnCall=True \", probability1)\n"
      ],
      "metadata": {
        "colab": {
          "base_uri": "https://localhost:8080/"
        },
        "id": "MFsdbti166t3",
        "outputId": "240625c6-670d-4833-9e2a-542ad1f9eac4"
      },
      "execution_count": null,
      "outputs": [
        {
          "output_type": "stream",
          "name": "stdout",
          "text": [
            "Probability of JohnCall=True  0.0521389757\n"
          ]
        }
      ]
    },
    {
      "cell_type": "code",
      "source": [
        "from pgmpy.inference import VariableElimination\n",
        "\n",
        "infer = VariableElimination(question)\n",
        "\n",
        "evidence = {\n",
        "    'JohnCall': 1,\n",
        "    'MaryCall': 1\n",
        "}\n",
        "\n",
        "query = ['JohnCall', 'MaryCall', 'Burglary', 'Earthquake']\n",
        "\n",
        "result = infer.query(variables=['Burglary'],evidence=evidence)\n",
        "\n",
        "probability2 = result.values[-1]\n",
        "\n",
        "print(\"Probability of Burglary= True and JohnCall=True',MaryCall=True \", probability2)\n"
      ],
      "metadata": {
        "colab": {
          "base_uri": "https://localhost:8080/"
        },
        "id": "nrBjhhrCCqST",
        "outputId": "28fa5e96-7815-4c44-de5e-e3f4dc5aba3d"
      },
      "execution_count": null,
      "outputs": [
        {
          "output_type": "stream",
          "name": "stdout",
          "text": [
            "Probability of Burglary= True and JohnCall=True',MaryCall=True  0.284171835364393\n"
          ]
        }
      ]
    },
    {
      "cell_type": "code",
      "source": [
        "from pgmpy.inference import VariableElimination\n",
        "\n",
        "infer = VariableElimination(question)\n",
        "\n",
        "query = ['JohnCall', 'MaryCall', 'Burglary', 'Earthquake']\n",
        "\n",
        "result = infer.query(variables=['JohnCall', 'MaryCall', 'Alarm'], evidence={'Burglary': 0, 'Earthquake': 0})\n",
        "\n",
        "probability = result.values[1]\n",
        "\n",
        "print(\"Probability of Alarm Ringed when JohnCall=True, MaryCall=True, Burglary=False, Earthquake=False:\", probability)\n"
      ],
      "metadata": {
        "id": "yVWF49kDE82W",
        "colab": {
          "base_uri": "https://localhost:8080/"
        },
        "outputId": "9cbe19c3-c7b8-4f07-b714-f858ce1cfef2"
      },
      "execution_count": null,
      "outputs": [
        {
          "output_type": "stream",
          "name": "stdout",
          "text": [
            "Probability of Alarm Ringed when JohnCall=True, MaryCall=True, Burglary=False, Earthquake=False: [[0.0494505 0.00027  ]\n",
            " [0.0004995 0.00063  ]]\n"
          ]
        }
      ]
    },
    {
      "cell_type": "code",
      "source": [],
      "metadata": {
        "id": "JH97KshCx5vK"
      },
      "execution_count": null,
      "outputs": []
    }
  ]
}