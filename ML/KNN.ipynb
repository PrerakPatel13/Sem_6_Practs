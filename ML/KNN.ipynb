{
  "nbformat": 4,
  "nbformat_minor": 0,
  "metadata": {
    "colab": {
      "provenance": []
    },
    "kernelspec": {
      "name": "python3",
      "display_name": "Python 3"
    },
    "language_info": {
      "name": "python"
    }
  },
  "cells": [
    {
      "cell_type": "code",
      "execution_count": 5,
      "metadata": {
        "colab": {
          "base_uri": "https://localhost:8080/"
        },
        "id": "nwFViLieY8r6",
        "outputId": "030115c4-164d-45c6-9e82-0c3a19203949"
      },
      "outputs": [
        {
          "output_type": "stream",
          "name": "stdout",
          "text": [
            "Predicted weight for age 38, height 5.5: 63.67\n"
          ]
        }
      ],
      "source": [
        "import numpy as np\n",
        "\n",
        "Age = [45, 26, 30, 34, 40, 36, 19, 28, 23, 32]\n",
        "Height = [5, 5.11, 5.6, 5.9, 4.8, 5.8, 5.3, 5.8, 5.5, 5.6]\n",
        "Weight = [77, 47, 55, 59, 72, 60, 40, 60, 45, 58]\n",
        "\n",
        "def euclidean_distance(point1, point2):\n",
        "    return np.sqrt(np.sum((np.array(point1) - np.array(point2))**2))\n",
        "\n",
        "def k_nearest_neighbors(age1, height1, k, age, height, weight):\n",
        "    distances = []\n",
        "    for i in range(len(age)):\n",
        "        dist = euclidean_distance([age1, height1], [age[i], height[i]])\n",
        "        distances.append((dist, weight[i]))\n",
        "\n",
        "    distances.sort()\n",
        "    k_nearest = distances[:k]\n",
        "    total_weight = 0\n",
        "    for dist, weight in k_nearest:\n",
        "        total_weight += weight\n",
        "\n",
        "    predicted_weight = total_weight / k\n",
        "    return predicted_weight\n",
        "\n",
        "input_age = 38\n",
        "input_height= 5.5\n",
        "k_value = 3\n",
        "\n",
        "predicted_weight = k_nearest_neighbors(input_age, input_height, k_value, Age, Height, Weight)\n",
        "\n",
        "print(f\"Predicted weight for age {input_age}, height {input_height}: {predicted_weight:.2f}\")\n"
      ]
    },
    {
      "cell_type": "code",
      "source": [
        "import numpy as np\n",
        "\n",
        "height = [167, 182, 176, 173, 172, 174, 169, 173, 170]\n",
        "weight = [51, 62, 69, 64, 65, 56, 58, 57, 55]\n",
        "classification = np.array(['underweight', 'normal', 'normal', 'normal', 'normal', 'underweight', 'normal', 'normal', 'normal'])\n",
        "\n",
        "def euclidean_distance(point1, point2):\n",
        "    return np.sqrt(np.sum((np.array(point1) - np.array(point2))**2))\n",
        "\n",
        "def k_nearest_neighbors(height1, weight1, k, height, weight, classifications):\n",
        "    distances = []\n",
        "    for i in range(len(height)):\n",
        "        dist = euclidean_distance([height1, weight1], [height[i], weight[i]])\n",
        "        distances.append((dist, classifications[i]))\n",
        "\n",
        "    distances.sort()\n",
        "    k_nearest = distances[:k]\n",
        "\n",
        "    count = {'underweight': 0, 'normal': 0}\n",
        "    for dist, weight_class in k_nearest:\n",
        "        count[weight_class] += 1\n",
        "\n",
        "    predict = max(count, key=count.get)\n",
        "    return predict\n",
        "\n",
        "input_height = 170\n",
        "input_weight = 57\n",
        "k_value = 3\n",
        "\n",
        "predict = k_nearest_neighbors(input_height, input_weight, k_value, height, weight, classification)\n",
        "\n",
        "print(f\"Predicted class for Height {input_height}, Weight {input_weight}: {predict}\")\n"
      ],
      "metadata": {
        "colab": {
          "base_uri": "https://localhost:8080/"
        },
        "id": "B5s52lEUay02",
        "outputId": "1ed44774-d3d6-49bd-bd80-ce3f38d5233d"
      },
      "execution_count": 8,
      "outputs": [
        {
          "output_type": "stream",
          "name": "stdout",
          "text": [
            "Predicted class for Height 170, Weight 57: normal\n"
          ]
        }
      ]
    },
    {
      "cell_type": "code",
      "source": [],
      "metadata": {
        "id": "3x1VzPx-gOXT"
      },
      "execution_count": null,
      "outputs": []
    }
  ]
}